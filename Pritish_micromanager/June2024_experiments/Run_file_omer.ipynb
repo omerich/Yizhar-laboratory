{
 "cells": [
  {
   "cell_type": "markdown",
   "metadata": {},
   "source": [
    "# *Run file* "
   ]
  },
  {
   "cell_type": "code",
   "execution_count": 4,
   "metadata": {},
   "outputs": [
    {
     "name": "stdout",
     "output_type": "stream",
     "text": [
      "The autoreload extension is already loaded. To reload it, use:\n",
      "  %reload_ext autoreload\n"
     ]
    }
   ],
   "source": [
    "%load_ext autoreload\n",
    "%autoreload 2\n",
    "import import_ipynb\n",
    "import numpy as np\n",
    "import matplotlib.pyplot as plt\n",
    "import json\n",
    "from pathlib import Path\n",
    "from pprint import PrettyPrinter\n",
    "pp = PrettyPrinter(indent=4)\n",
    "from pycromanager import Core, Studio\n",
    "from time import sleep\n",
    "from Utils_omer import *\n",
    "from Protocols_Omer import * \n",
    "#mmc = Core()"
   ]
  },
  {
   "cell_type": "markdown",
   "metadata": {},
   "source": [
    "#### *Paths: saving images,general properties file (cell dict) and Json file*"
   ]
  },
  {
   "cell_type": "code",
   "execution_count": 7,
   "metadata": {},
   "outputs": [],
   "source": [
    "#savepath_images = r\"\"\"C:\\Users\\oferlab\\Documents\\DATA_jun2024\\4.06.2024\\IMAGING\"\"\"\n",
    "#savepath_cell_dict = r\"\"\"C:\\Users\\oferlab\\Documents\\DATA_jun2024\\4.06.2024\\EPHYS\"\"\"\n",
    "with open('config_params.json', 'r') as file:\n",
    "    parameters_json = json.load(file)"
   ]
  },
  {
   "cell_type": "markdown",
   "metadata": {},
   "source": [
    "#### *Recording properties:*\n",
    "*for every \"runnig\" session, we would like to update the different properties of this recording (vc/cc,protocol etc.),make sure to update \"cell dict\" properly with every new recording initiation*"
   ]
  },
  {
   "cell_type": "markdown",
   "metadata": {},
   "source": [
    "## *Cell-recording properties*"
   ]
  },
  {
   "cell_type": "code",
   "execution_count": 9,
   "metadata": {},
   "outputs": [],
   "source": [
    "cell_dict={\n",
    "    \"cell\":1,\n",
    "    \"coverslip\":1 , \n",
    "    \"construct\":\"D850\", \n",
    "    \"Protocol\":\"XXXXXXXXXXXX\",\n",
    "    \"VC/CC\":\"VC\",\n",
    "    \"Mouse\":\"M-XXXXXX\",\n",
    "    \"Culture/Slice\":\"Slice\",\n",
    "    \"Filter excitation\":\"590/10\",\n",
    "    \"Filter emmition\":\"470/10\",\n",
    "    \"ND filter\":\"2 ND filters of 63%\",\n",
    "    \"Drugs\":\"non\",\n",
    "}"
   ]
  },
  {
   "cell_type": "markdown",
   "metadata": {},
   "source": [
    "## *Choosing configuration set*"
   ]
  },
  {
   "cell_type": "markdown",
   "metadata": {},
   "source": [
    "### *Yellow-Cyan*"
   ]
  },
  {
   "cell_type": "code",
   "execution_count": 10,
   "metadata": {},
   "outputs": [
    {
     "name": "stdout",
     "output_type": "stream",
     "text": [
      "all good!\n",
      "{   0: 1,\n",
      "    20: 3,\n",
      "    40: 6,\n",
      "    60: 16,\n",
      "    80: 40,\n",
      "    100: 100,\n",
      "    'Culture/Slice': 'Slice',\n",
      "    'Drugs': 'non',\n",
      "    'Filter emmition': '470/10',\n",
      "    'Filter excitation': '590/10',\n",
      "    'Mouse': 'M-XXXXXX',\n",
      "    'ND filter': '2 ND filters of 63%',\n",
      "    'Protocol': 'XXXXXXXXXXXX',\n",
      "    'VC/CC': 'VC',\n",
      "    'cell': 1,\n",
      "    'construct': 'D850',\n",
      "    'coverslip': 1,\n",
      "    'frames_per_sweep': 20,\n",
      "    'max_cyan_light': 100,\n",
      "    'max_yellow_light': 100,\n",
      "    'min_cyan_light': 1,\n",
      "    'min_yellow_light': 2,\n",
      "    'runs': 6,\n",
      "    'sweeps': 1}\n"
     ]
    }
   ],
   "source": [
    "current_config = parameters_json['config_params_cyan_yellow']\n",
    "verify_cell(cell_dict)\n",
    "yellow_level_dict = get_yellow_level_dict_PC(current_config)\n",
    "cyan_level_dict   = get_cyan_level_dict_PC(current_config)\n",
    "current_config.update(cell_dict)\n",
    "current_config.update(yellow_level_dict)\n",
    "current_config.update(cyan_level_dict)\n",
    "pp.pprint(current_config)"
   ]
  },
  {
   "cell_type": "code",
   "execution_count": null,
   "metadata": {},
   "outputs": [],
   "source": [
    "run_yellow_cyan_control(mmc, savepath_images, current_config)"
   ]
  },
  {
   "cell_type": "markdown",
   "metadata": {},
   "source": [
    "### *Teal-Cyan*"
   ]
  },
  {
   "cell_type": "code",
   "execution_count": null,
   "metadata": {},
   "outputs": [],
   "source": [
    "current_config = parameters_json['config_params_teal_cyan']\n",
    "verify_cell(cell_dict)\n",
    "teal_level_dict = get_teal_level_dict_PC(current_config)\n",
    "cyan_level_dict = get_cyan_level_dict_PC(current_config)\n",
    "current_config.update(cell_dict)\n",
    "current_config.update(teal_level_dict)\n",
    "current_config.update(cyan_level_dict)\n",
    "pp.pprint(current_config)"
   ]
  },
  {
   "cell_type": "code",
   "execution_count": null,
   "metadata": {},
   "outputs": [],
   "source": [
    "run_teal_cyan_control(mmc, savepath_images,current_config)"
   ]
  }
 ],
 "metadata": {
  "kernelspec": {
   "display_name": "Python 3",
   "language": "python",
   "name": "python3"
  },
  "language_info": {
   "codemirror_mode": {
    "name": "ipython",
    "version": 3
   },
   "file_extension": ".py",
   "mimetype": "text/x-python",
   "name": "python",
   "nbconvert_exporter": "python",
   "pygments_lexer": "ipython3",
   "version": "3.12.3"
  }
 },
 "nbformat": 4,
 "nbformat_minor": 2
}
