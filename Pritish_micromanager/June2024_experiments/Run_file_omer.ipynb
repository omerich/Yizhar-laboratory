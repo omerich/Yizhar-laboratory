{
 "cells": [
  {
   "cell_type": "markdown",
   "metadata": {},
   "source": [
    "# *Run file* "
   ]
  },
  {
   "cell_type": "code",
   "execution_count": null,
   "metadata": {},
   "outputs": [],
   "source": [
    "%load_ext autoreload\n",
    "%autoreload 2\n",
    "import numpy as np\n",
    "import matplotlib.pyplot as plt\n",
    "from pathlib import Path\n",
    "from pprint import PrettyPrinter\n",
    "pp = PrettyPrinter(indent=4)\n",
    "from pycromanager import Core, Studio\n",
    "from time import sleep\n",
    "from utils import *\n",
    "from protocols import *\n",
    "from configs import *\n",
    "mmc = Core()"
   ]
  },
  {
   "cell_type": "code",
   "execution_count": null,
   "metadata": {},
   "outputs": [],
   "source": [
    "savepath = r\"\"\"C:\\Users\\oferlab\\Documents\\DATA_jun2024\\4.06.2024\\IMAGING\"\"\""
   ]
  },
  {
   "cell_type": "code",
   "execution_count": null,
   "metadata": {},
   "outputs": [],
   "source": [
    "cell_dict={\n",
    "    \"cell\":5,\n",
    "    \"coverslip\": 2, \n",
    "    \"construct\": \"AAV366\",\n",
    "}\n",
    "verify_cell(cell_dict)\n",
    "config_params_chrimson_pc_ct.update(cell_dict)\n",
    "pp.pprint(config_params_chrimson_pc_ct)\n",
    "get_yellow_level_dict_PC(config_params_chrimson_pc_ct)"
   ]
  },
  {
   "cell_type": "code",
   "execution_count": null,
   "metadata": {},
   "outputs": [],
   "source": [
    "run_chrimson_pc_ct(mmc, savepath, config_params_chrimson_pc_ct)"
   ]
  },
  {
   "cell_type": "code",
   "execution_count": null,
   "metadata": {},
   "outputs": [],
   "source": [
    "config_params_GTARC2_yellow_cyan.update(cell_dict)\n",
    "pp.pprint(config_params_GTARC2_yellow_cyan)\n",
    "get_yellow_level_dict_PC(config_params_GTARC2_yellow_cyan)"
   ]
  },
  {
   "cell_type": "code",
   "execution_count": null,
   "metadata": {},
   "outputs": [],
   "source": [
    "run_chrimson_pc_ct(mmc, savepath, config_params_GTARC2_yellow_cyan)"
   ]
  },
  {
   "cell_type": "code",
   "execution_count": null,
   "metadata": {},
   "outputs": [],
   "source": [
    "config_params_chrmine_pc.update(cell_dict)\n",
    "pp.pprint(config_params_chrmine_pc)\n",
    "get_teal_level_dict_PC(config_params_chrmine_pc)"
   ]
  },
  {
   "cell_type": "code",
   "execution_count": null,
   "metadata": {},
   "outputs": [],
   "source": [
    "run_chrmine_pc(mmc, savepath, config_params_chrmine_pc)"
   ]
  },
  {
   "cell_type": "code",
   "execution_count": null,
   "metadata": {},
   "outputs": [],
   "source": [
    "config_params_spiking_diff_hz.update(cell_dict)\n",
    "pp.pprint(config_params_spiking_diff_hz)\n",
    "get_teal_level_dict_PC(config_params_spiking_diff_hz)"
   ]
  },
  {
   "cell_type": "code",
   "execution_count": null,
   "metadata": {},
   "outputs": [],
   "source": [
    "run_spiking_diffHz_teal(mmc, savepath, config_params_spiking_diff_hz)"
   ]
  }
 ],
 "metadata": {
  "language_info": {
   "name": "python"
  }
 },
 "nbformat": 4,
 "nbformat_minor": 2
}
