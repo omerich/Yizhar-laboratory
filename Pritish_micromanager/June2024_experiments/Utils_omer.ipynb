{
 "cells": [
  {
   "cell_type": "markdown",
   "metadata": {},
   "source": [
    "# *Utils*\n"
   ]
  },
  {
   "cell_type": "code",
   "execution_count": null,
   "metadata": {},
   "outputs": [],
   "source": [
    "from datetime import datetime\n",
    "import numpy as np"
   ]
  },
  {
   "cell_type": "code",
   "execution_count": null,
   "metadata": {},
   "outputs": [],
   "source": [
    "def get_folder_name(config_params):\n",
    "    dt = datetime.now().strftime(\"%Y%m%d-%H%M%S\")\n",
    "    foldername = f\"\"\"{dt}_{config_params[\"construct\"]}_CS_{config_params[\"coverslip\"]}_cell_{config_params[\"cell\"]}\"\"\"\n",
    "    return foldername"
   ]
  },
  {
   "cell_type": "code",
   "execution_count": null,
   "metadata": {},
   "outputs": [],
   "source": [
    "def get_cyan_level_dict_PC(config_params):\n",
    "    num_sweep = config_params[\"sweeps\"]\n",
    "    num_runs = config_params[\"runs\"]\n",
    "    frames_per_sweep = config_params[\"frames_per_sweep\"]\n",
    "    num_frames = num_sweep * frames_per_sweep * num_runs\n",
    "    frames = np.arange(0, num_frames, frames_per_sweep * num_sweep)\n",
    "    # print(frames)\n",
    "    levels = (\n",
    "        np.logspace(\n",
    "            np.log10(config_params[\"min_cyan_light\"]),\n",
    "            np.log10(config_params[\"max_cyan_light\"]),\n",
    "            len(frames),\n",
    "        )\n",
    "        .round()\n",
    "        .astype(int)\n",
    "    )\n",
    "\n",
    "    cyan_level_dict = dict(zip(frames, levels))\n",
    "    return cyan_level_dict"
   ]
  },
  {
   "cell_type": "code",
   "execution_count": null,
   "metadata": {},
   "outputs": [],
   "source": [
    "def get_yellow_level_dict_PC(config_params):\n",
    "    num_sweep = config_params[\"sweeps\"]\n",
    "    num_runs = config_params[\"runs\"]\n",
    "    frames_per_sweep = config_params[\"frames_per_sweep\"]\n",
    "    num_frames = num_sweep * frames_per_sweep * num_runs\n",
    "    frames = np.arange(0, num_frames, frames_per_sweep * num_sweep)\n",
    "    # print(frames)\n",
    "    levels = (\n",
    "        np.logspace(\n",
    "            np.log10(config_params[\"min_yellow_light\"]),\n",
    "            np.log10(config_params[\"max_yellow_light\"]),\n",
    "            len(frames),\n",
    "        )\n",
    "        .round()\n",
    "        .astype(int)\n",
    "    )\n",
    "\n",
    "    yellow_level_dict = dict(zip(frames, levels))\n",
    "    return yellow_level_dict"
   ]
  },
  {
   "cell_type": "code",
   "execution_count": null,
   "metadata": {},
   "outputs": [],
   "source": [
    "def update_events_yellow_and_cyan_dict(events, cyan_level_dict,yellow_level_dict):\n",
    "    new_events = []\n",
    "    for event in events:\n",
    "        # print(event)\n",
    "        t = event[\"axes\"][\"time\"]\n",
    "        if t in cyan_level_dict:\n",
    "            cyan_level = str(cyan_level_dict[t])\n",
    "            event[\"properties\"] = [\n",
    "                [\"Spectra\", \"Cyan_Level\", cyan_level],\n",
    "            ]\n",
    "        if t in yellow_level_dict:\n",
    "            yellow_level = str(yellow_level_dict[t])\n",
    "            event[\"properties\"] = [\n",
    "                [\"Spectra\", \"Green_Level\", yellow_level],\n",
    "            ]            \n",
    "        new_events.append(event)\n",
    "    return new_events"
   ]
  },
  {
   "cell_type": "code",
   "execution_count": null,
   "metadata": {},
   "outputs": [],
   "source": [
    "def get_teal_level_dict_PC(config_params):\n",
    "    num_sweep = config_params[\"sweeps\"]\n",
    "    num_runs = config_params[\"runs\"]\n",
    "    frames_per_sweep = config_params[\"frames_per_sweep\"]\n",
    "    num_frames = num_sweep * frames_per_sweep * num_runs\n",
    "    frames = np.arange(0, num_frames, frames_per_sweep * num_sweep)\n",
    "    # print(frames)\n",
    "    levels = (\n",
    "        np.logspace(\n",
    "            np.log10(config_params[\"min_teal_light\"]),\n",
    "            np.log10(config_params[\"max_teal_light\"]),\n",
    "            len(frames),\n",
    "        )\n",
    "        .round()\n",
    "        .astype(int)\n",
    "    )\n",
    "\n",
    "    teal_level_dict = dict(zip(frames, levels))\n",
    "    return teal_level_dict\n"
   ]
  },
  {
   "cell_type": "code",
   "execution_count": null,
   "metadata": {},
   "outputs": [],
   "source": [
    "def update_events_yellow_and_cyan_dict_TEAL(events, cyan_level_dict,yellow_level_dict):\n",
    "    new_events = []\n",
    "    for event in events:\n",
    "        # print(event)\n",
    "        t = event[\"axes\"][\"time\"]\n",
    "        if t in cyan_level_dict:\n",
    "            cyan_level = str(cyan_level_dict[t])\n",
    "            event[\"properties\"] = [\n",
    "                [\"Spectra\", \"Cyan_Level\", cyan_level],\n",
    "            ]\n",
    "        if t in yellow_level_dict:\n",
    "            yellow_level = str(yellow_level_dict[t])\n",
    "            event[\"properties\"] = [\n",
    "                [\"Spectra\", \"Teal_Level\", yellow_level],\n",
    "            ]            \n",
    "        new_events.append(event)\n",
    "    return new_events"
   ]
  }
 ],
 "metadata": {
  "language_info": {
   "name": "python"
  }
 },
 "nbformat": 4,
 "nbformat_minor": 2
}
